{
 "cells": [
  {
   "cell_type": "markdown",
   "id": "de7753f7",
   "metadata": {},
   "source": [
    "# Project capstone"
   ]
  },
  {
   "cell_type": "markdown",
   "id": "b0b0cd95",
   "metadata": {},
   "source": [
    "## Exploratory data analysis"
   ]
  },
  {
   "cell_type": "markdown",
   "id": "ddbb2daf",
   "metadata": {},
   "source": [
    "### Data source"
   ]
  },
  {
   "cell_type": "code",
   "execution_count": null,
   "id": "fd8d4b66",
   "metadata": {},
   "outputs": [],
   "source": [
    "TO DO\n",
    "- Collect stock market Brazil, indice day trade. WIN\n",
    "- update it frequently (automatically, using an API)\n",
    "- NLP? in combination with LSTM?\n",
    "- use both WDO and WIN together, as they sometimes tend to inversely correlate? one can be useful to give faster prediction on the price movement\n"
   ]
  },
  {
   "cell_type": "code",
   "execution_count": null,
   "id": "76bef051",
   "metadata": {},
   "outputs": [],
   "source": []
  },
  {
   "cell_type": "code",
   "execution_count": null,
   "id": "4357d7d0",
   "metadata": {},
   "outputs": [],
   "source": []
  },
  {
   "cell_type": "code",
   "execution_count": null,
   "id": "8271152c",
   "metadata": {},
   "outputs": [],
   "source": []
  },
  {
   "cell_type": "markdown",
   "id": "e7272116",
   "metadata": {},
   "source": [
    "### EDA, data cleansing and visualization"
   ]
  },
  {
   "cell_type": "code",
   "execution_count": null,
   "id": "db6fc93d",
   "metadata": {},
   "outputs": [],
   "source": [
    "understand and visualize the data\n",
    "- statistics (boxplot, histograms, min max std, etc.)\n",
    "- duplicates, emptiness (null), "
   ]
  },
  {
   "cell_type": "code",
   "execution_count": null,
   "id": "8c2973b6",
   "metadata": {},
   "outputs": [],
   "source": [
    "- make sure data types are correct. Implement test scripts?\n",
    "- "
   ]
  },
  {
   "cell_type": "code",
   "execution_count": null,
   "id": "5bcf54e3",
   "metadata": {},
   "outputs": [],
   "source": []
  },
  {
   "cell_type": "markdown",
   "id": "2b1642e3",
   "metadata": {},
   "source": [
    "## Feature engineering"
   ]
  },
  {
   "cell_type": "code",
   "execution_count": null,
   "id": "a5b5e457",
   "metadata": {},
   "outputs": [],
   "source": [
    "- make the data clean and neat (no NANs, use Impute to fill in blanks, )\n",
    "- scaling (if needed), log?\n",
    "- discretize (for a few feature, it might be useful to use bins instead of continue values)\n",
    "- create feature such gradient change\n",
    "- technical indicators\n",
    "- timee-to-frequency transformations using Fourier Transformations - FFT. Transform data in time domain to frequency domain\n",
    "- get seasonal aspects, looking at discrete months or days\n",
    "- \n",
    "\n",
    "\n",
    "One Hot Encoding, \n",
    "\n",
    "create a pipeline for the feature engineering steps"
   ]
  },
  {
   "cell_type": "code",
   "execution_count": null,
   "id": "10c338db",
   "metadata": {},
   "outputs": [],
   "source": [
    "Supervised machine learning, as I will have the information from the past\n",
    "- Maybe make it an LSTM with autoencoder to make it more robust?? but still, we do have the labels at every time stamp\n",
    "\n",
    "#"
   ]
  },
  {
   "cell_type": "code",
   "execution_count": null,
   "id": "1b1f5490",
   "metadata": {},
   "outputs": [],
   "source": [
    "- split data into training, validation and test sets\n",
    "- use cross validation"
   ]
  },
  {
   "cell_type": "code",
   "execution_count": null,
   "id": "91f32cf8",
   "metadata": {},
   "outputs": [],
   "source": []
  },
  {
   "cell_type": "markdown",
   "id": "fb52b1db",
   "metadata": {},
   "source": [
    "## Model definition"
   ]
  },
  {
   "cell_type": "code",
   "execution_count": null,
   "id": "70268caf",
   "metadata": {},
   "outputs": [],
   "source": [
    "define architecture, which neural networks to be used (LSTM, LSTM + autoencoders, LSTM + NLP from twitter)\n"
   ]
  },
  {
   "cell_type": "markdown",
   "id": "eba11828",
   "metadata": {},
   "source": [
    "## Model training"
   ]
  },
  {
   "cell_type": "code",
   "execution_count": null,
   "id": "48e2f493",
   "metadata": {},
   "outputs": [],
   "source": [
    "- parallelize?\n",
    "- \n",
    "\n",
    "\n"
   ]
  },
  {
   "cell_type": "markdown",
   "id": "abfdd473",
   "metadata": {},
   "source": [
    "## Model evaluation"
   ]
  },
  {
   "cell_type": "code",
   "execution_count": null,
   "id": "1576e61c",
   "metadata": {},
   "outputs": [],
   "source": [
    "# Classification - market going up or down\n",
    "confusion matrix, accuracy, precision, recall, f1 score... Choose the best one for my specific case\n",
    "\n",
    "# regression - price predict the next one or few time stamps\n",
    "root mean squared error, mean squared error, mean absolute error"
   ]
  },
  {
   "cell_type": "code",
   "execution_count": null,
   "id": "4b03d550",
   "metadata": {},
   "outputs": [],
   "source": []
  },
  {
   "cell_type": "markdown",
   "id": "853d05d0",
   "metadata": {},
   "source": [
    "## Model deployment and data product"
   ]
  },
  {
   "cell_type": "code",
   "execution_count": 2,
   "id": "53b6d0c3",
   "metadata": {},
   "outputs": [],
   "source": [
    "deploy it on AWS\n",
    "data product as website?? REST API? heroku + streamlit?\n"
   ]
  },
  {
   "cell_type": "code",
   "execution_count": null,
   "id": "ce8fce60",
   "metadata": {},
   "outputs": [],
   "source": [
    "# Naming convention\n",
    "[project_name].data_exp.<technology>.<version>.<extension>\n",
    "[project_name].eda.<technology>.<version>.<extension>\n",
    "[project_name].feature_eng.<technology>.<version>.<extension>\n",
    "[project_name].model_def.<technology>.<version>.<extension>\n",
    "[project_name].model_train.<technology>.<version>.<extension>\n",
    "[project_name].model_evaluate.<technology>.<version>.<extension>\n",
    "[project_name].model_deployment.<technology>.<version>.<extension>"
   ]
  }
 ],
 "metadata": {
  "kernelspec": {
   "display_name": "Python 3 (ipykernel)",
   "language": "python",
   "name": "python3"
  },
  "language_info": {
   "codemirror_mode": {
    "name": "ipython",
    "version": 3
   },
   "file_extension": ".py",
   "mimetype": "text/x-python",
   "name": "python",
   "nbconvert_exporter": "python",
   "pygments_lexer": "ipython3",
   "version": "3.8.12"
  },
  "toc": {
   "base_numbering": 1,
   "nav_menu": {},
   "number_sections": true,
   "sideBar": true,
   "skip_h1_title": false,
   "title_cell": "Table of Contents",
   "title_sidebar": "Contents",
   "toc_cell": false,
   "toc_position": {},
   "toc_section_display": true,
   "toc_window_display": false
  }
 },
 "nbformat": 4,
 "nbformat_minor": 5
}
