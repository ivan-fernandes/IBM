{
 "cells": [
  {
   "cell_type": "markdown",
   "id": "2d2de014",
   "metadata": {},
   "source": [
    "# ApacheSpark"
   ]
  },
  {
   "cell_type": "code",
   "execution_count": 3,
   "id": "9d12c57f",
   "metadata": {},
   "outputs": [
    {
     "name": "stderr",
     "output_type": "stream",
     "text": [
      "22/01/30 12:35:16 WARN Utils: Your hostname, IFernandes resolves to a loopback address: 127.0.1.1; using 192.168.240.163 instead (on interface eth0)\n",
      "22/01/30 12:35:16 WARN Utils: Set SPARK_LOCAL_IP if you need to bind to another address\n",
      "Using Spark's default log4j profile: org/apache/spark/log4j-defaults.properties\n",
      "Setting default log level to \"WARN\".\n",
      "To adjust logging level use sc.setLogLevel(newLevel). For SparkR, use setLogLevel(newLevel).\n",
      "22/01/30 12:35:18 WARN NativeCodeLoader: Unable to load native-hadoop library for your platform... using builtin-java classes where applicable\n",
      "22/01/30 12:35:19 WARN Utils: Service 'SparkUI' could not bind on port 4040. Attempting port 4041.\n"
     ]
    }
   ],
   "source": [
    "import findspark\n",
    "findspark.init()\n",
    "\n",
    "import pyspark\n",
    "sc = pyspark.SparkContext(appName=\"rdd\")"
   ]
  },
  {
   "cell_type": "code",
   "execution_count": 3,
   "id": "95afe012",
   "metadata": {},
   "outputs": [
    {
     "name": "stderr",
     "output_type": "stream",
     "text": [
      "22/01/29 20:30:44 WARN Utils: Service 'SparkUI' could not bind on port 4040. Attempting port 4041.\n",
      "22/01/29 20:30:44 WARN Utils: Service 'SparkUI' could not bind on port 4041. Attempting port 4042.\n"
     ]
    }
   ],
   "source": [
    "rdd = sc.parallelize(range(100)) # saved in ApacheSpark memory - best solution\n",
    "rdd2 = range(100) # saved in local driver - worse solution for parallelization"
   ]
  },
  {
   "cell_type": "markdown",
   "id": "ced273eb",
   "metadata": {},
   "source": [
    "## Functional programming\n",
    "lambda functions, applying a function to a set of data. \\\n",
    "then parallelization takes place by taken sub samples of this list and processing them at different nodes/cores."
   ]
  },
  {
   "cell_type": "code",
   "execution_count": 12,
   "id": "5abca24b",
   "metadata": {},
   "outputs": [
    {
     "data": {
      "text/plain": [
       "PythonRDD[7] at RDD at PythonRDD.scala:53"
      ]
     },
     "execution_count": 12,
     "metadata": {},
     "output_type": "execute_result"
    }
   ],
   "source": [
    "# functional programming\n",
    "rdd = sc.parallelize(range(100))\n",
    "rdd.map(lambda x: x+1)"
   ]
  },
  {
   "cell_type": "code",
   "execution_count": 15,
   "id": "54e1da63",
   "metadata": {},
   "outputs": [
    {
     "data": {
      "text/plain": [
       "([0, 1, 2, 3, 4, 5, 6, 7, 8, 9], [1, 2, 3, 4, 5, 6, 7, 8, 9, 10])"
      ]
     },
     "execution_count": 15,
     "metadata": {},
     "output_type": "execute_result"
    }
   ],
   "source": [
    "rdd.take(10), rdd.map(lambda x: x+1).take(10)"
   ]
  },
  {
   "cell_type": "code",
   "execution_count": 17,
   "id": "2ab6e446",
   "metadata": {},
   "outputs": [
    {
     "data": {
      "text/plain": [
       "5050"
      ]
     },
     "execution_count": 17,
     "metadata": {},
     "output_type": "execute_result"
    }
   ],
   "source": [
    "sc.parallelize(range(1,101)).reduce(lambda a,b: a+b)"
   ]
  },
  {
   "cell_type": "markdown",
   "id": "c937375c",
   "metadata": {},
   "source": [
    "## RDD - Resilient Distributed Dataset and DataFrames\n",
    "\n",
    "ApacheSparkSQL"
   ]
  },
  {
   "cell_type": "code",
   "execution_count": null,
   "id": "e2bc1f05",
   "metadata": {},
   "outputs": [],
   "source": [
    "# accessing cloudant from ApacheSpark\n",
    "cloudantdata = sparSession.read.format(\"com.cloudant.spark\").\\\n",
    "option(\"cloudant.host\", \"\"). \\\n",
    "option(\"cloudant.username\", \"\"). \\\n",
    "option(\"cloudant.password\", \"\"). \\\n",
    "load(\"device_name\")"
   ]
  },
  {
   "cell_type": "code",
   "execution_count": null,
   "id": "c1e7ba78",
   "metadata": {},
   "outputs": [],
   "source": [
    "cloudantdata.count()"
   ]
  },
  {
   "cell_type": "code",
   "execution_count": null,
   "id": "8176de94",
   "metadata": {},
   "outputs": [],
   "source": [
    "cloudantdata.createOrReplaceTempView(\"device_name\")\n",
    "sqlDF = spark.sql(\"SELECT * FROM device_name\")\n",
    "sqlDF.show()"
   ]
  },
  {
   "cell_type": "markdown",
   "id": "e9ee4d54",
   "metadata": {},
   "source": [
    "## Math and Statistics on ApacheSpark"
   ]
  },
  {
   "cell_type": "code",
   "execution_count": 127,
   "id": "042204d4",
   "metadata": {},
   "outputs": [],
   "source": [
    "from pyspark import SparkContext, SparkConf\n",
    "from pyspark.sql import SparkSession\n",
    "    \n",
    "sc = SparkContext.getOrCreate(SparkConf().setMaster(\"local[*]\"))\n",
    "\n",
    "spark = SparkSession \\\n",
    "    .builder \\\n",
    "    .getOrCreate()"
   ]
  },
  {
   "cell_type": "code",
   "execution_count": 128,
   "id": "cb967b7b",
   "metadata": {},
   "outputs": [],
   "source": [
    "import random\n",
    "rddX = sc.parallelize(random.sample(list(range(100)),100))\n",
    "rddY = sc.parallelize(random.sample(list(range(100)),100))"
   ]
  },
  {
   "cell_type": "code",
   "execution_count": 130,
   "id": "09a1f043",
   "metadata": {},
   "outputs": [
    {
     "name": "stdout",
     "output_type": "stream",
     "text": [
      "49.5 49.5\n",
      "49.5\n"
     ]
    }
   ],
   "source": [
    "meanX = rddX.sum()/float(rddX.count())\n",
    "meanY = rddY.sum()/float(rddY.count())\n",
    "print (meanX, rddX.mean())\n",
    "print (meanY)"
   ]
  },
  {
   "cell_type": "code",
   "execution_count": 131,
   "id": "0a254f54",
   "metadata": {},
   "outputs": [],
   "source": [
    "# standard deviation\n",
    "import math\n",
    "stdd = math.sqrt(rdd.map(lambda x: pow(x-meanX,2)).sum()/n)"
   ]
  },
  {
   "cell_type": "code",
   "execution_count": 132,
   "id": "796a1081",
   "metadata": {},
   "outputs": [
    {
     "data": {
      "text/plain": [
       "1.7997599759975997"
      ]
     },
     "execution_count": 132,
     "metadata": {},
     "output_type": "execute_result"
    }
   ],
   "source": [
    "# skewness\n",
    "rdd.map(lambda x: pow(x-meanX,3)/pow(stdd,3)).sum()/n\n",
    "\n",
    "# kurtosis - shape of the data and outliers content within the data\n",
    "kurt = rdd.map(lambda x: pow(x-meanX,4)/pow(stdd,4)).sum()/n\n",
    "kurt"
   ]
  },
  {
   "cell_type": "code",
   "execution_count": 135,
   "id": "9a09b8e5",
   "metadata": {},
   "outputs": [
    {
     "name": "stdout",
     "output_type": "stream",
     "text": [
      "28.86607004772212 28.86607004772212\n"
     ]
    },
    {
     "data": {
      "text/plain": [
       "0.04537653765376538"
      ]
     },
     "execution_count": 135,
     "metadata": {},
     "output_type": "execute_result"
    }
   ],
   "source": [
    "# Covariance and correlation\n",
    "n = rddXY.count()\n",
    "## covariance\n",
    "rddXY = rddX.zip(rddY)\n",
    "covXY = rddXY.map(lambda x_y : (x_y[0]-meanX)*(x_y[1]-meanY)).sum()/n\n",
    "covXY\n",
    "\n",
    "## correlation: corr = covarXY / (stdX * stdY)\n",
    "from math import sqrt\n",
    "stdX = sqrt(rddX.map(lambda x : pow(x-meanX,2)).sum()/n)\n",
    "stdY = sqrt(rddY.map(lambda x : pow(x-meanY,2)).sum()/n)\n",
    "print (stdX, stdY)\n",
    "\n",
    "corrXY = covXY / (stdX*stdY)\n",
    "corrXY"
   ]
  },
  {
   "cell_type": "code",
   "execution_count": 158,
   "id": "f9ab8856",
   "metadata": {},
   "outputs": [],
   "source": [
    "## Correlation matrix\n",
    "column1 = sc.parallelize(range(100))\n",
    "column2 = sc.parallelize(range(100,200))\n",
    "column3 = sc.parallelize(list(reversed(range(100))))\n",
    "import random\n",
    "column4 = sc.parallelize(random.sample(range(100),100))\n",
    "\n",
    "data = column1.zip(column2).zip(column3).zip(column4).map(lambda a_b_c_d : (a_b_c_d[0][0][0],a_b_c_d[0][0][1],a_b_c_d[0][1],a_b_c_d[1]).map(lambda a_b_c_d : [a_b_c_d[0],a_b_c_d[1],a_b_c_d[2],a_b_c_d[3]])) \n",
    "#data.map(lambda a_b_c_d : [a_b_c_d[0],a_b_c_d[1],a_b_c_d[2],a_b_c_d[3]]).take(10)\n",
    "from pyspark.mllib.stat import Statistics\n",
    "print(Statistics.corr(data))\n"
   ]
  },
  {
   "cell_type": "code",
   "execution_count": 125,
   "id": "f2a31395",
   "metadata": {},
   "outputs": [
    {
     "data": {
      "text/plain": [
       "(          d1        d2\n",
       " d1  1.000000  0.709273\n",
       " d2  0.709273  1.000000,\n",
       "           d1        d2\n",
       " d1  9.166667  4.055556\n",
       " d2  4.055556  3.566667)"
      ]
     },
     "execution_count": 125,
     "metadata": {},
     "output_type": "execute_result"
    }
   ],
   "source": [
    "a =[1,2,3,4,5,6,7,8,9,10]\n",
    "b = [7,6,5,4,5,6,7,8,9,10]\n",
    "import pandas as pd\n",
    "di = {\"d1\":a,\"d2\":b}\n",
    "data = pd.DataFrame(di)\n",
    "data.corr(), data.cov()"
   ]
  },
  {
   "cell_type": "markdown",
   "id": "23175b51",
   "metadata": {
    "heading_collapsed": true
   },
   "source": [
    "### ApacheSpark run test"
   ]
  },
  {
   "cell_type": "code",
   "execution_count": null,
   "id": "fdf567af",
   "metadata": {
    "hidden": true
   },
   "outputs": [],
   "source": [
    "import findspark\n",
    "findspark.init()\n",
    "\n",
    "import pyspark\n",
    "import random\n",
    "\n",
    "sc = pyspark.SparkContext(appName=\"Pi\")\n",
    "\n",
    "num_samples = 100000000\n",
    "\n",
    "def inside(p):     \n",
    "  x, y = random.random(), random.random()\n",
    "  return x*x + y*y < 1\n",
    "\n",
    "count = sc.parallelize(range(0, num_samples)).filter(inside).count()\n",
    "\n",
    "pi = 4 * count / num_samples\n",
    "print(pi)\n",
    "\n",
    "sc.stop()"
   ]
  },
  {
   "cell_type": "markdown",
   "id": "ed59da8d",
   "metadata": {},
   "source": [
    "# Plotting with ApacheSpark and matplotlib"
   ]
  },
  {
   "cell_type": "code",
   "execution_count": 172,
   "id": "9450f5be",
   "metadata": {
    "scrolled": false
   },
   "outputs": [
    {
     "name": "stdout",
     "output_type": "stream",
     "text": [
      "+--------------------+--------------------+-----+--------+----------+---------+--------+-----+-----------+-------------+-------+\n",
      "|                 _id|                _rev|count|flowrate|fluidlevel|frequency|hardness|speed|temperature|           ts|voltage|\n",
      "+--------------------+--------------------+-----+--------+----------+---------+--------+-----+-----------+-------------+-------+\n",
      "|0d86485d0f88d1f9d...|1-57940679fb8a713...|    4|      11|acceptable|     null|      77| null|        100|1547808723923|   null|\n",
      "|0d86485d0f88d1f9d...|1-15ff3a0b304d789...|    2|    null|      null|     null|    null| 1046|       null|1547808729917|   null|\n",
      "|0d86485d0f88d1f9d...|1-97c2742b68c7b07...|    4|    null|      null|       71|    null| null|       null|1547808731918|    236|\n",
      "|0d86485d0f88d1f9d...|1-eefb903dbe45746...|   19|      11|acceptable|     null|      75| null|         86|1547808738999|   null|\n",
      "|0d86485d0f88d1f9d...|1-5f68b4c72813c25...|    7|    null|      null|       75|    null| null|       null|1547808740927|    235|\n",
      "|0d86485d0f88d1f9d...|1-cd4b6c57ddbe77e...|    5|    null|      null|     null|    null| 1014|       null|1547808744923|   null|\n",
      "|0d86485d0f88d1f9d...|1-a35b25b5bf43aaf...|   32|      11|acceptable|     null|      73| null|         84|1547808752028|   null|\n",
      "|0d86485d0f88d1f9d...|1-b717f7289a8476d...|   48|      11|acceptable|     null|      79| null|         84|1547808768065|   null|\n",
      "|0d86485d0f88d1f9d...|1-c2f1f8fcf178b2f...|   18|    null|      null|       73|    null| null|       null|1547808773944|    228|\n",
      "|0d86485d0f88d1f9d...|1-15033dd9eebb4a8...|   59|      11|acceptable|     null|      72| null|         96|1547808779093|   null|\n",
      "|0d86485d0f88d1f9d...|1-753dae825f9a6c2...|   62|      11|acceptable|     null|      73| null|         88|1547808782113|   null|\n",
      "|0d86485d0f88d1f9d...|1-b168089f44f03f0...|   13|    null|      null|     null|    null| 1097|       null|1547808784940|   null|\n",
      "|0d86485d0f88d1f9d...|1-403b687c6be0dea...|   23|    null|      null|       80|    null| null|       null|1547808788955|    236|\n",
      "|0d86485d0f88d1f9d...|1-195551e0455a24b...|   72|      11|acceptable|     null|      77| null|         87|1547808792134|   null|\n",
      "|0d86485d0f88d1f9d...|1-060a39fc6c2ddee...|   26|    null|      null|       62|    null| null|       null|1547808797959|    233|\n",
      "|0d86485d0f88d1f9d...|1-2234514bffee465...|   27|    null|      null|       61|    null| null|       null|1547808800960|    226|\n",
      "|0d86485d0f88d1f9d...|1-4265898bb401db0...|   82|      11|acceptable|     null|      79| null|         96|1547808802154|   null|\n",
      "|0d86485d0f88d1f9d...|1-2fbf7ca9a0425a0...|   94|      11|acceptable|     null|      73| null|         90|1547808814186|   null|\n",
      "|0d86485d0f88d1f9d...|1-203c0ee6d7fbd21...|   97|      11|acceptable|     null|      77| null|         88|1547808817190|   null|\n",
      "|0d86485d0f88d1f9d...|1-47e1965db94fcab...|  104|      11|acceptable|     null|      75| null|         80|1547808824198|   null|\n",
      "+--------------------+--------------------+-----+--------+----------+---------+--------+-----+-----------+-------------+-------+\n",
      "only showing top 20 rows\n",
      "\n"
     ]
    }
   ],
   "source": [
    "%matplotlib inline\n",
    "# sampling is important when plotting big datasets\n",
    "df = spark.read.parquet('./Assignments/washing.parquet')\n",
    "df.createOrReplaceTempView('washing')\n",
    "df.show()"
   ]
  },
  {
   "cell_type": "markdown",
   "id": "83d6f515",
   "metadata": {},
   "source": [
    "## Boxplot"
   ]
  },
  {
   "cell_type": "code",
   "execution_count": 171,
   "id": "cf0d52d3",
   "metadata": {
    "scrolled": true
   },
   "outputs": [
    {
     "data": {
      "text/plain": [
       "[228,\n",
       " 234,\n",
       " 224,\n",
       " 233,\n",
       " 228,\n",
       " 229,\n",
       " 224,\n",
       " 226,\n",
       " 225,\n",
       " 234,\n",
       " 235,\n",
       " 235,\n",
       " 227,\n",
       " 220,\n",
       " 237,\n",
       " 224,\n",
       " 223,\n",
       " 237,\n",
       " 229,\n",
       " 224,\n",
       " 237,\n",
       " 226,\n",
       " 226,\n",
       " 221,\n",
       " 225,\n",
       " 233,\n",
       " 246,\n",
       " 224,\n",
       " 223,\n",
       " 223,\n",
       " 226,\n",
       " 232,\n",
       " 232,\n",
       " 235,\n",
       " 227,\n",
       " 238,\n",
       " 238,\n",
       " 224,\n",
       " 220,\n",
       " 242,\n",
       " 221,\n",
       " 220,\n",
       " 227]"
      ]
     },
     "execution_count": 171,
     "metadata": {},
     "output_type": "execute_result"
    }
   ],
   "source": [
    "voltage = spark.sql(\"SELECT voltage from washing where voltage is not null\")\n",
    "# voltage.collect() # this is encapsulated as a wrong data type for python and for visualization. Do it as follow:\n",
    "voltage.rdd.map(lambda row: row.voltage).collect()\n",
    "# sampling.. not necessary now, but might be necessary for some big data \n",
    "voltage_array = voltage.rdd.map(lambda row: row.voltage).sample(False, 0.10).collect()\n",
    "voltage_array"
   ]
  },
  {
   "cell_type": "code",
   "execution_count": 174,
   "id": "21b16179",
   "metadata": {},
   "outputs": [
    {
     "data": {
      "image/png": "[encoded data removed]",
      "text/plain": [
       "<Figure size 432x288 with 1 Axes>"
      ]
     },
     "metadata": {
      "needs_background": "light"
     },
     "output_type": "display_data"
    }
   ],
   "source": [
    "import matplotlib.pyplot as plt\n",
    "plt.boxplot(voltage_array)\n",
    "plt.show()"
   ]
  },
  {
   "cell_type": "markdown",
   "id": "04ff5175",
   "metadata": {},
   "source": [
    "## Runchart - time series"
   ]
  },
  {
   "cell_type": "code",
   "execution_count": 197,
   "id": "bd4aba38",
   "metadata": {
    "scrolled": true
   },
   "outputs": [
    {
     "data": {
      "text/plain": [
       "([238,\n",
       "  227,\n",
       "  235,\n",
       "  221,\n",
       "  236,\n",
       "  238,\n",
       "  230,\n",
       "  236,\n",
       "  229,\n",
       "  226,\n",
       "  224,\n",
       "  232,\n",
       "  233,\n",
       "  220,\n",
       "  233,\n",
       "  223,\n",
       "  236,\n",
       "  231,\n",
       "  236,\n",
       "  224,\n",
       "  234,\n",
       "  234,\n",
       "  235,\n",
       "  230,\n",
       "  221,\n",
       "  229,\n",
       "  220,\n",
       "  229,\n",
       "  220,\n",
       "  223,\n",
       "  232,\n",
       "  222,\n",
       "  226,\n",
       "  236,\n",
       "  247,\n",
       "  238,\n",
       "  238,\n",
       "  235,\n",
       "  227,\n",
       "  237,\n",
       "  230,\n",
       "  223,\n",
       "  223],\n",
       " [1547808791957,\n",
       "  1547808830981,\n",
       "  1547808864037,\n",
       "  1547808900085,\n",
       "  1547808912091,\n",
       "  1547808930101,\n",
       "  1547808945126,\n",
       "  1547808948129,\n",
       "  1547808984163,\n",
       "  1547809056219,\n",
       "  1547809083238,\n",
       "  1547809101247,\n",
       "  1547809113256,\n",
       "  1547809128263,\n",
       "  1547809134265,\n",
       "  1547809155272,\n",
       "  1547809233344,\n",
       "  1547809266373,\n",
       "  1547809350411,\n",
       "  1547809380431,\n",
       "  1547809440473,\n",
       "  1547809458483,\n",
       "  1547809500510,\n",
       "  1547809512522,\n",
       "  1547809518524,\n",
       "  1547809527533,\n",
       "  1547809623592,\n",
       "  1547809695646,\n",
       "  1547809746685,\n",
       "  1547809791714,\n",
       "  1547809803719,\n",
       "  1547809857745,\n",
       "  1547809866750,\n",
       "  1547809875752,\n",
       "  1547809905769,\n",
       "  1547809947789,\n",
       "  1547809953793,\n",
       "  1547809959796,\n",
       "  1547809986805,\n",
       "  1547809989809,\n",
       "  1547810001814,\n",
       "  1547810007815,\n",
       "  1547810028821])"
      ]
     },
     "execution_count": 197,
     "metadata": {},
     "output_type": "execute_result"
    }
   ],
   "source": [
    "voltageTS = spark.sql(\"SELECT voltage, ts from washing where voltage is not null ORDER BY ts ASC\") # select voltage and time stamp\n",
    "# it is always good practice to sort values by time stamp again to make sure they are in the correct order\n",
    "\n",
    "# voltageTS_array = voltageTS.rdd.sample(False,0.10).map(lambda row: (row.ts, row.voltage)).collect() # used to visualize if the data is correctly processed\n",
    "# voltageTS_array\n",
    "\n",
    "\n",
    "#********************#\n",
    "# issue with two arguments within a lambda function when using ApacheSpark RDDs\n",
    "voltageTS_rdd = voltageTS.rdd.sample(False,0.10).map(lambda row: (row.ts, row.voltage))\n",
    "voltage_array = voltageTS_rdd.map(lambda ts_voltage: ts_voltage[1]).collect()\n",
    "ts_array = voltageTS_rdd.map(lambda ts_voltage: ts_voltage[0]).collect()\n",
    "\n",
    "voltage_array, ts_array"
   ]
  },
  {
   "cell_type": "code",
   "execution_count": 198,
   "id": "8b96b63a",
   "metadata": {},
   "outputs": [
    {
     "data": {
      "image/png": "[encoded data removed]",
      "text/plain": [
       "<Figure size 432x288 with 1 Axes>"
      ]
     },
     "metadata": {
      "needs_background": "light"
     },
     "output_type": "display_data"
    }
   ],
   "source": [
    "plt.plot(ts_array, voltage_array)\n",
    "plt.xlabel('time')\n",
    "plt.ylabel('voltage')\n",
    "plt.show()"
   ]
  },
  {
   "cell_type": "code",
   "execution_count": null,
   "id": "253308b0",
   "metadata": {},
   "outputs": [],
   "source": []
  },
  {
   "cell_type": "code",
   "execution_count": null,
   "id": "b906d5c0",
   "metadata": {},
   "outputs": [],
   "source": []
  }
 ],
 "metadata": {
  "kernelspec": {
   "display_name": "Python 3 (ipykernel)",
   "language": "python",
   "name": "python3"
  },
  "language_info": {
   "codemirror_mode": {
    "name": "ipython",
    "version": 3
   },
   "file_extension": ".py",
   "mimetype": "text/x-python",
   "name": "python",
   "nbconvert_exporter": "python",
   "pygments_lexer": "ipython3",
   "version": "3.8.12"
  },
  "toc": {
   "base_numbering": 1,
   "nav_menu": {},
   "number_sections": true,
   "sideBar": true,
   "skip_h1_title": false,
   "title_cell": "Table of Contents",
   "title_sidebar": "Contents",
   "toc_cell": false,
   "toc_position": {},
   "toc_section_display": true,
   "toc_window_display": false
  }
 },
 "nbformat": 4,
 "nbformat_minor": 5
}
