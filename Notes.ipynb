{
 "cells": [
  {
   "cell_type": "markdown",
   "id": "2d2de014",
   "metadata": {},
   "source": [
    "# ApacheSpark"
   ]
  },
  {
   "cell_type": "code",
   "execution_count": null,
   "id": "9d12c57f",
   "metadata": {},
   "outputs": [],
   "source": [
    "import findspark\n",
    "findspark.init()\n",
    "\n",
    "import pyspark"
   ]
  },
  {
   "cell_type": "code",
   "execution_count": 3,
   "id": "95afe012",
   "metadata": {},
   "outputs": [
    {
     "name": "stderr",
     "output_type": "stream",
     "text": [
      "22/01/29 20:30:44 WARN Utils: Service 'SparkUI' could not bind on port 4040. Attempting port 4041.\n",
      "22/01/29 20:30:44 WARN Utils: Service 'SparkUI' could not bind on port 4041. Attempting port 4042.\n"
     ]
    }
   ],
   "source": [
    "sc = pyspark.SparkContext(appName=\"rdd\")\n",
    "rdd = sc.parallelize(range(100)) # saved in ApacheSpark memory - best solution\n",
    "rdd2 = range(100) # saved in local driver - worse solution for parallelization"
   ]
  },
  {
   "cell_type": "markdown",
   "id": "ced273eb",
   "metadata": {},
   "source": [
    "## Functional programming\n",
    "lambda functions, applying a function to a set of data. \\\n",
    "then parallelization takes place by taken sub samples of this list and processing them at different nodes/cores."
   ]
  },
  {
   "cell_type": "code",
   "execution_count": 12,
   "id": "5abca24b",
   "metadata": {},
   "outputs": [
    {
     "data": {
      "text/plain": [
       "PythonRDD[7] at RDD at PythonRDD.scala:53"
      ]
     },
     "execution_count": 12,
     "metadata": {},
     "output_type": "execute_result"
    }
   ],
   "source": [
    "# functional programming\n",
    "rdd = sc.parallelize(range(100))\n",
    "rdd.map(lambda x: x+1)"
   ]
  },
  {
   "cell_type": "code",
   "execution_count": 15,
   "id": "54e1da63",
   "metadata": {},
   "outputs": [
    {
     "data": {
      "text/plain": [
       "([0, 1, 2, 3, 4, 5, 6, 7, 8, 9], [1, 2, 3, 4, 5, 6, 7, 8, 9, 10])"
      ]
     },
     "execution_count": 15,
     "metadata": {},
     "output_type": "execute_result"
    }
   ],
   "source": [
    "rdd.take(10), rdd.map(lambda x: x+1).take(10)"
   ]
  },
  {
   "cell_type": "code",
   "execution_count": 17,
   "id": "2ab6e446",
   "metadata": {},
   "outputs": [
    {
     "data": {
      "text/plain": [
       "5050"
      ]
     },
     "execution_count": 17,
     "metadata": {},
     "output_type": "execute_result"
    }
   ],
   "source": [
    "sc.parallelize(range(1,101)).reduce(lambda a,b: a+b)"
   ]
  },
  {
   "cell_type": "markdown",
   "id": "c937375c",
   "metadata": {},
   "source": [
    "## RDD - Resilient Distributed Dataset and DataFrames\n",
    "\n",
    "ApacheSparkSQL"
   ]
  },
  {
   "cell_type": "code",
   "execution_count": null,
   "id": "e2bc1f05",
   "metadata": {},
   "outputs": [],
   "source": [
    "# accessing cloudant from ApacheSpark\n",
    "cloudantdata = sparSession.read.format(\"com.cloudant.spark\").\\\n",
    "option(\"cloudant.host\", \"\"). \\\n",
    "option(\"cloudant.username\", \"\"). \\\n",
    "option(\"cloudant.password\", \"\"). \\\n",
    "load(\"device_name\")"
   ]
  },
  {
   "cell_type": "code",
   "execution_count": null,
   "id": "c1e7ba78",
   "metadata": {},
   "outputs": [],
   "source": [
    "cloudantdata.count()"
   ]
  },
  {
   "cell_type": "code",
   "execution_count": null,
   "id": "8176de94",
   "metadata": {},
   "outputs": [],
   "source": [
    "cloudantdata.createOrReplaceTempView(\"device_name\")\n",
    "sqlDF = spark.sql(\"SELECT * FROM device_name\")\n",
    "sqlDF.show()"
   ]
  },
  {
   "cell_type": "code",
   "execution_count": null,
   "id": "088ded75",
   "metadata": {},
   "outputs": [],
   "source": []
  },
  {
   "cell_type": "markdown",
   "id": "072b27f8",
   "metadata": {},
   "source": [
    "## ApacheSpark run test"
   ]
  },
  {
   "cell_type": "code",
   "execution_count": 1,
   "id": "e60fcf76",
   "metadata": {},
   "outputs": [
    {
     "name": "stderr",
     "output_type": "stream",
     "text": [
      "22/01/29 14:05:34 WARN Utils: Your hostname, IFernandes resolves to a loopback address: 127.0.1.1; using 192.168.240.163 instead (on interface eth0)\n",
      "22/01/29 14:05:34 WARN Utils: Set SPARK_LOCAL_IP if you need to bind to another address\n",
      "Using Spark's default log4j profile: org/apache/spark/log4j-defaults.properties\n",
      "Setting default log level to \"WARN\".\n",
      "To adjust logging level use sc.setLogLevel(newLevel). For SparkR, use setLogLevel(newLevel).\n",
      "22/01/29 14:05:36 WARN NativeCodeLoader: Unable to load native-hadoop library for your platform... using builtin-java classes where applicable\n",
      "22/01/29 14:05:37 WARN Utils: Service 'SparkUI' could not bind on port 4040. Attempting port 4041.\n",
      "                                                                                \r"
     ]
    },
    {
     "name": "stdout",
     "output_type": "stream",
     "text": [
      "3.14186988\n"
     ]
    }
   ],
   "source": [
    "import findspark\n",
    "findspark.init()\n",
    "\n",
    "import pyspark\n",
    "import random\n",
    "\n",
    "sc = pyspark.SparkContext(appName=\"Pi\")\n",
    "\n",
    "num_samples = 100000000\n",
    "\n",
    "def inside(p):     \n",
    "  x, y = random.random(), random.random()\n",
    "  return x*x + y*y < 1\n",
    "\n",
    "count = sc.parallelize(range(0, num_samples)).filter(inside).count()\n",
    "\n",
    "pi = 4 * count / num_samples\n",
    "print(pi)\n",
    "\n",
    "sc.stop()"
   ]
  },
  {
   "cell_type": "code",
   "execution_count": null,
   "id": "f02b651a",
   "metadata": {},
   "outputs": [],
   "source": []
  }
 ],
 "metadata": {
  "kernelspec": {
   "display_name": "Python 3 (ipykernel)",
   "language": "python",
   "name": "python3"
  },
  "language_info": {
   "codemirror_mode": {
    "name": "ipython",
    "version": 3
   },
   "file_extension": ".py",
   "mimetype": "text/x-python",
   "name": "python",
   "nbconvert_exporter": "python",
   "pygments_lexer": "ipython3",
   "version": "3.8.12"
  },
  "toc": {
   "base_numbering": 1,
   "nav_menu": {},
   "number_sections": true,
   "sideBar": true,
   "skip_h1_title": false,
   "title_cell": "Table of Contents",
   "title_sidebar": "Contents",
   "toc_cell": false,
   "toc_position": {},
   "toc_section_display": true,
   "toc_window_display": false
  }
 },
 "nbformat": 4,
 "nbformat_minor": 5
}
